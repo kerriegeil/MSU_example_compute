{
 "cells": [
  {
   "cell_type": "markdown",
   "metadata": {},
   "source": [
    "# Excercise 2 - Metadata Exploration"
   ]
  },
  {
   "cell_type": "markdown",
   "metadata": {},
   "source": [
    "Description: \n",
    "\n",
    "In this exercise we will access metadata about each feature layer: the feature class name, geometry type, and projected coordinate system. \n",
    "\n"
   ]
  },
  {
   "cell_type": "markdown",
   "metadata": {},
   "source": [
    "## Set up"
   ]
  },
  {
   "cell_type": "code",
   "execution_count": 1,
   "metadata": {},
   "outputs": [],
   "source": [
    "# import python packages\n",
    "\n",
    "import sys\n",
    "import glob2 as glob\n",
    "from osgeo import ogr,gdal\n",
    "import fiona\n",
    "import geopandas as gpd\n",
    "# conda env packages: glob2, gdal, geopandas, fiona, juptyer\n",
    "# create conda env from DEV_py_demo yml file\n"
   ]
  },
  {
   "cell_type": "code",
   "execution_count": 3,
   "metadata": {},
   "outputs": [],
   "source": [
    "# list any files or directories we will use\n",
    "\n",
    "# data_dir = 'C://Users/kerrie/Documents/ArcGIS/Projects/DEV_python/export_gdb_data/' # update to wherever you exported your data\n",
    "# workspace_dir = 'C://Users/kerrie/Documents/01_LocalCode/repos/MSU_example_compute/python/DEV_python_canvas_course/' # update to wherever you saved your jupyter notebook\n",
    "gdb_file='C://Users/kerrie/Documents/ArcGIS/Projects/DEV_python/Ex_02/Ex2_GIS_data/Ex2_GISdata.gdb'"
   ]
  },
  {
   "cell_type": "markdown",
   "metadata": {},
   "source": [
    "## Metadata Exploration\n",
    "\n",
    "There are multiple ways to read data out of an ESRI geodatabase using free open source python packages. The newer and more intuitive way to do this is with the fiona and geopandas packages, which use gdal under the hood. The older method that has more functionality for geospatial data but is also a bit more convoluted is to use the osgeo and gdal packages. Here, we demonstrate the same task twice. Once using geopandas+fiona and once with osgeo+gdal. There may be other python packages that can accomplish this task but we won't cover them here.\n",
    "\n",
    "The task is to open an ESRI geodatabase, get all the feature class/layer names in the file, and get the geometry type and projected coordinate system for each layer.\n"
   ]
  },
  {
   "cell_type": "markdown",
   "metadata": {},
   "source": [
    "#### Using geopandas + fiona"
   ]
  },
  {
   "cell_type": "code",
   "execution_count": 4,
   "metadata": {},
   "outputs": [
    {
     "name": "stdout",
     "output_type": "stream",
     "text": [
      "Feature class name: towns_105 \n",
      "Geometry Type: ['Point']\n",
      "Projected Coordinate System: mstm\n",
      "\n",
      "Feature class name: desig_hwys_105 \n",
      "Geometry Type: ['MultiLineString']\n",
      "Projected Coordinate System: NAD83 / Mississippi TM\n",
      "\n",
      "Feature class name: pop_pl_105 \n",
      "Geometry Type: ['MultiPolygon']\n",
      "Projected Coordinate System: mstm\n",
      "\n",
      "Feature class name: co_105 \n",
      "Geometry Type: ['MultiPolygon']\n",
      "Projected Coordinate System: mstm\n",
      "\n",
      "Feature class name: VolusiaCounty \n",
      "Geometry Type: ['MultiPolygon']\n",
      "Projected Coordinate System: NAD83_HARN_Florida_East_ftUS\n",
      "\n",
      "Feature class name: Highways \n",
      "Geometry Type: ['MultiLineString']\n",
      "Projected Coordinate System: NAD83_HARN_Florida_East_ftUS\n",
      "\n",
      "Feature class name: Schools \n",
      "Geometry Type: ['Point']\n",
      "Projected Coordinate System: NAD83_HARN_Florida_East_ftUS\n",
      "\n"
     ]
    }
   ],
   "source": [
    "# get layer names, geometry types, projected coordinate system names\n",
    "\n",
    "for layer_name in fiona.listlayers(gdb_file):\n",
    "    # using fiona above to loop thru the list of layer names\n",
    "\n",
    "    # read a layer, .read_file can read shp and gdb\n",
    "    gdf=gpd.read_file(gdb_file,layer=layer_name) \n",
    "\n",
    "    # .geom_type returns the geometry for every data record in the layer\n",
    "    # .unique() returns a list of only 1 type if all records have the same geometry\n",
    "    geom_type=gdf.geom_type.unique()  \n",
    "\n",
    "    # .crs returns spatial reference information, get the name of the projected coord system\n",
    "    sr_name=gdf.crs.name\n",
    "\n",
    "    print(\"Feature class name: {} \\nGeometry Type: {}\\nProjected Coordinate System: {}\"\n",
    "        \"\\n\".format(layer_name, geom_type, sr_name))"
   ]
  },
  {
   "cell_type": "markdown",
   "metadata": {},
   "source": [
    "#### Using osgeo + gdal"
   ]
  },
  {
   "cell_type": "code",
   "execution_count": 5,
   "metadata": {},
   "outputs": [],
   "source": [
    "# these packages won't always throw errors if something goes wrong\n",
    "# we have to turn on exceptions if we want this behavior and do a little extra error catching\n",
    "ogr.UseExceptions()\n",
    "\n",
    "# get the appropriate driver for reading gdb\n",
    "try: driver_gdb=ogr.GetDriverByName(\"OpenFileGDB\")\n",
    "except Exception as e: sys.exit(e)\n",
    "\n",
    "# open the gdb as read only (0)\n",
    "try: gdb=driver_gdb.Open(gdb_file,0)\n",
    "except Exception as e: sys.exit(e)"
   ]
  },
  {
   "cell_type": "code",
   "execution_count": 6,
   "metadata": {},
   "outputs": [
    {
     "name": "stdout",
     "output_type": "stream",
     "text": [
      "Feature class name: towns_105 \n",
      "Geometry Type: Point\n",
      "Projected Coordinate System: mstm\n",
      "\n",
      "Feature class name: desig_hwys_105 \n",
      "Geometry Type: Multi Line String\n",
      "Projected Coordinate System: NAD83 / Mississippi TM\n",
      "\n",
      "Feature class name: pop_pl_105 \n",
      "Geometry Type: Multi Polygon\n",
      "Projected Coordinate System: mstm\n",
      "\n",
      "Feature class name: co_105 \n",
      "Geometry Type: Multi Polygon\n",
      "Projected Coordinate System: mstm\n",
      "\n",
      "Feature class name: VolusiaCounty \n",
      "Geometry Type: Multi Polygon\n",
      "Projected Coordinate System: NAD83_HARN_Florida_East_ftUS\n",
      "\n",
      "Feature class name: Highways \n",
      "Geometry Type: Multi Line String\n",
      "Projected Coordinate System: NAD83_HARN_Florida_East_ftUS\n",
      "\n",
      "Feature class name: Schools \n",
      "Geometry Type: Point\n",
      "Projected Coordinate System: NAD83_HARN_Florida_East_ftUS\n",
      "\n"
     ]
    }
   ],
   "source": [
    "# get layer names, geometry types, projected coordinate system names\n",
    "for ilayer in range(gdb.GetLayerCount()):\n",
    "    # using gdal above to loop thru a list of layer indexes\n",
    "\n",
    "    # read a layer\n",
    "    fclass=gdb.GetLayerByIndex(ilayer)\n",
    "    \n",
    "    # get the layer name\n",
    "    layer_name=fclass.GetName()\n",
    "\n",
    "    # get geometry type\n",
    "    geom_type=ogr.GeometryTypeToName(fclass.GetGeomType())\n",
    "\n",
    "    # .GetSpatialRef() returns spatial reference information, get the name of the projected coord system\n",
    "    sr_name=fclass.GetSpatialRef().GetAttrValue('PROJCS')\n",
    "    \n",
    "    print(\"Feature class name: {} \\nGeometry Type: {}\\nProjected Coordinate System: {}\"\n",
    "        \"\\n\".format(layer_name,geom_type, sr_name))    "
   ]
  },
  {
   "cell_type": "code",
   "execution_count": null,
   "metadata": {},
   "outputs": [],
   "source": []
  },
  {
   "cell_type": "code",
   "execution_count": null,
   "metadata": {},
   "outputs": [],
   "source": []
  }
 ],
 "metadata": {
  "kernelspec": {
   "display_name": "Python 3.11.5 ('DEV_py_demo')",
   "language": "python",
   "name": "python3"
  },
  "language_info": {
   "codemirror_mode": {
    "name": "ipython",
    "version": 3
   },
   "file_extension": ".py",
   "mimetype": "text/x-python",
   "name": "python",
   "nbconvert_exporter": "python",
   "pygments_lexer": "ipython3",
   "version": "3.11.5"
  },
  "vscode": {
   "interpreter": {
    "hash": "8d8f1bb5f023abc8dcbecc65c8def52ed3ffe00f05994a1f41a996074b50163f"
   }
  }
 },
 "nbformat": 4,
 "nbformat_minor": 2
}
