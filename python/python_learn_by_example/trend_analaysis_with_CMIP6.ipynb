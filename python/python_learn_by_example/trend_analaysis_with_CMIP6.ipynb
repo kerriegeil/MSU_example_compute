{
 "cells": [
  {
   "cell_type": "markdown",
   "metadata": {},
   "source": [
    "IN DEVELOPMENT"
   ]
  },
  {
   "cell_type": "markdown",
   "metadata": {},
   "source": [
    "# Trend Analysis using Data from Climate Models"
   ]
  },
  {
   "cell_type": "markdown",
   "metadata": {},
   "source": [
    "- how to regrid model data\n",
    "- how to compare modeled temperature to observational temperature \n",
    "    - applying an elevation correction to modeled temperature \n",
    "    - consideration of model land vs ocean grids (masking) \n",
    "- how to compute a 100-year trend\n",
    "- how to determine if a trend is statistically significant \n",
    "- how to determine if the model trend is different from the observed trend (i.e. can the model simulate what is observed)  \n",
    "- how to plot data: spatial plots (maps), timeseries and trend line plots (xy plots)"
   ]
  },
  {
   "cell_type": "code",
   "execution_count": null,
   "metadata": {},
   "outputs": [],
   "source": [
    "import xarray as xr\n",
    "import matplotlib.pyplot as plt\n",
    "import glob"
   ]
  },
  {
   "cell_type": "code",
   "execution_count": null,
   "metadata": {},
   "outputs": [],
   "source": [
    "orig_dir = r'C://Users/kerrie/Documents/02_LocalData/tutorials/CMIP6/orig/'\n",
    "subset_dir = r'C://Users/kerrie/Documents/02_LocalData/tutorials/CMIP6/subset_USA/'\n",
    "\n",
    "# file name information\n",
    "variable = 'tasmin'\n",
    "frequency = 'Amon'\n",
    "experiment = 'historical'\n",
    "variant = 'r1i1p1f1'\n",
    "grid = 'gn'\n",
    "extension='.nc'\n",
    "connector='_'\n",
    "modelnames=['ACCESS-CM2',\n",
    "            'ACCESS-ESM1-5',\n",
    "            'AWI-CM-1-1-MR',\n",
    "            'AWI-CM-1-1-LR',\n",
    "            'BCC-CSM2-MR',\n",
    "            'BCC-ESM1',\n",
    "            'CanESM5',\n",
    "            'CMCC-ESM2',\n",
    "            'FGOALS-g3',\n",
    "            'FIO-ESM-2-0',\n",
    "            'GISS-E2-1-H',\n",
    "            'MIROC6',\n",
    "            'MPI-ESM-1-2-HAM',\n",
    "            'MPI-ESM1-2-HR',\n",
    "            'MPI-ESM1-2-LR',\n",
    "            'MRI-ESM2-0',\n",
    "            'NESM3',\n",
    "            'SAM0-UNICON']\n",
    "\n"
   ]
  },
  {
   "cell_type": "code",
   "execution_count": null,
   "metadata": {},
   "outputs": [],
   "source": [
    "fileparts=[variable,frequency,'*',experiment,variant,grid,'*']\n",
    "searchstring=connector.join(fileparts)+extension\n",
    "infiles=glob.glob(orig_dir+searchstring)\n",
    "len(infiles),infiles[0:5]"
   ]
  },
  {
   "cell_type": "code",
   "execution_count": null,
   "metadata": {},
   "outputs": [],
   "source": [
    "f=infiles[0]\n",
    "f=f.replace('orig','subset_USA')\n",
    "f=f.replace('.nc','_USA.nc')\n",
    "\n",
    "f"
   ]
  },
  {
   "cell_type": "code",
   "execution_count": null,
   "metadata": {},
   "outputs": [],
   "source": [
    "for f in infiles:\n",
    "    # open a USA subset of the data\n",
    "    ds=xr.open_dataset(f).sel(lat=slice(20,55),lon=slice(230,300))\n",
    "    # delete things we won't need\n",
    "    if 'time_bnds' in ds.data_vars:\n",
    "        ds=ds.drop_vars('time_bnds')\n",
    "    if 'height' in ds.coords:\n",
    "        ds=ds.reset_coords('height',drop=True)\n",
    "    # update the directory and file name\n",
    "    fileout=f.replace('orig','subset_USA') # dir update\n",
    "    fileout=fileout.replace('.nc','_USA.nc') # filename update\n",
    "    # write new netcdf file\n",
    "    print('writing file',fileout)\n",
    "    ds.to_netcdf(fileout,format='NETCDF4',engine='netcdf4')        "
   ]
  },
  {
   "cell_type": "code",
   "execution_count": null,
   "metadata": {},
   "outputs": [],
   "source": [
    "# for model in modelnames:\n",
    "#     fileparts=[variable,frequency,model,experiment,variant,grid,'*']\n",
    "#     searchstring=connector.join(fileparts)+extension\n",
    "#     infiles=glob.glob(orig_dir+searchstring)\n",
    "#     print(infiles)"
   ]
  },
  {
   "cell_type": "code",
   "execution_count": null,
   "metadata": {},
   "outputs": [],
   "source": [
    "data = xr.open_dataset('C://Users/kerrie/Documents/02_LocalData/tutorials/CMIP6/orig\\\\tasmin_Amon_ACCESS-CM2_historical_r1i1p1f1_gn_185001-201412.nc').sel(lat=slice(20,55),lon=slice(230,300))#.sel(time=slice('1914','2014'))\n",
    "data"
   ]
  },
  {
   "cell_type": "code",
   "execution_count": null,
   "metadata": {},
   "outputs": [],
   "source": [
    "data=data.drop_vars('time_bnds')\n",
    "data"
   ]
  },
  {
   "cell_type": "code",
   "execution_count": null,
   "metadata": {},
   "outputs": [],
   "source": [
    "test=data.height\n",
    "test"
   ]
  },
  {
   "cell_type": "code",
   "execution_count": null,
   "metadata": {},
   "outputs": [],
   "source": [
    "# del data.coords.height\n",
    "data=data.reset_coords('height',drop=True)\n",
    "data['height']=test\n",
    "data"
   ]
  },
  {
   "cell_type": "code",
   "execution_count": null,
   "metadata": {},
   "outputs": [],
   "source": []
  },
  {
   "cell_type": "code",
   "execution_count": null,
   "metadata": {},
   "outputs": [],
   "source": []
  },
  {
   "cell_type": "code",
   "execution_count": null,
   "metadata": {},
   "outputs": [],
   "source": []
  },
  {
   "cell_type": "code",
   "execution_count": null,
   "metadata": {},
   "outputs": [],
   "source": []
  },
  {
   "cell_type": "code",
   "execution_count": null,
   "metadata": {},
   "outputs": [],
   "source": [
    "# encoding={'time_bnds':{},'lat_bnds':{},'lon_bnds':{}}\n",
    "# encoding={'lat_bnds':{},'lon_bnds':{}}\n",
    "filename=subset_dir+'tasmin_Amon_ACCESS-CM2_historical_r1i1p1f1_gn_185001-201412_USA.nc'\n",
    "data.to_netcdf(filename,format='NETCDF4',engine='netcdf4')#,encoding=encoding)"
   ]
  },
  {
   "cell_type": "code",
   "execution_count": null,
   "metadata": {},
   "outputs": [],
   "source": [
    "del data.time_bnds.height\n",
    "# data.time_bnds"
   ]
  },
  {
   "cell_type": "code",
   "execution_count": null,
   "metadata": {},
   "outputs": [],
   "source": [
    "data.data_vars"
   ]
  },
  {
   "cell_type": "code",
   "execution_count": null,
   "metadata": {},
   "outputs": [],
   "source": [
    "\n",
    "# fvattr={'_FillValue':None}\n",
    "# encoding={var:fvattr for var in data.coords}\n",
    "# # encoding={var:fvattr for var in data.data_vars if var!='tasmin'}\n",
    "# encoding"
   ]
  },
  {
   "cell_type": "code",
   "execution_count": null,
   "metadata": {},
   "outputs": [],
   "source": [
    "# timeattrs=data.time.attrs\n",
    "# latattrs=data.lat.attrs\n",
    "# lonattrs=data.lon.attrs\n",
    "# timebattrs=data.time_bnds.attrs\n",
    "# latbattrs=data.lat_bnds.attrs\n",
    "# lonbattrs=data.lon_bnds.attrs\n",
    "# zattrs=data.height.attrs\n",
    "# varattrs=data.tasmin.attrs\n",
    "\n",
    "# encoding = {'time': timeattrs,\n",
    "#             'lat': latattrs,\n",
    "#             'lon': lonattrs,\n",
    "#             'time_bnds': timebattrs,\n",
    "#             'lat_bnds': latbattrs,\n",
    "#             'lon_bnds': lonbattrs,\n",
    "#             'height': zattrs,\n",
    "#             'tasmin': varattrs}\n",
    "\n",
    "# fvattr={'_FillValue':None}\n",
    "\n",
    "# encoding={var:fvattr for var in data.data_vars if var!='tasmin'}\n",
    "\n",
    "# encoding = {'time': {'_FillValue':None},\n",
    "#             'lat': latattrs,\n",
    "#             'lon': lonattrs,\n",
    "#             'time_bnds': timebattrs,\n",
    "#             'lat_bnds': latbattrs,\n",
    "#             'lon_bnds': lonbattrs,\n",
    "#             'height': zattrs,\n",
    "#             'tasmin': varattrs}\n",
    "\n",
    "\n",
    "filename=subset_dir+'tasmin_Amon_ACCESS-CM2_historical_r1i1p1f1_gn_185001-201412_USA.nc'\n",
    "data.to_netcdf(filename,format='NETCDF4',engine='netcdf4',encoding=encoding)"
   ]
  },
  {
   "cell_type": "code",
   "execution_count": null,
   "metadata": {},
   "outputs": [],
   "source": []
  },
  {
   "cell_type": "code",
   "execution_count": null,
   "metadata": {},
   "outputs": [],
   "source": []
  },
  {
   "cell_type": "code",
   "execution_count": null,
   "metadata": {},
   "outputs": [],
   "source": [
    "data_subset=data.sel(lat=slice(20,55),lon=slice(230,300))\n",
    "data_subset['tasmin'].isel(time=0).plot()"
   ]
  },
  {
   "cell_type": "code",
   "execution_count": null,
   "metadata": {},
   "outputs": [],
   "source": []
  },
  {
   "cell_type": "code",
   "execution_count": null,
   "metadata": {},
   "outputs": [],
   "source": [
    "\n",
    "\n",
    "data['tasmin'].isel(time=0).plot()"
   ]
  },
  {
   "cell_type": "code",
   "execution_count": null,
   "metadata": {},
   "outputs": [],
   "source": [
    "data['tasmin'].isel(time=slice(0,6)).plot(col='time',col_wrap=3)"
   ]
  },
  {
   "cell_type": "code",
   "execution_count": null,
   "metadata": {},
   "outputs": [],
   "source": []
  },
  {
   "cell_type": "code",
   "execution_count": null,
   "metadata": {},
   "outputs": [],
   "source": []
  },
  {
   "cell_type": "code",
   "execution_count": null,
   "metadata": {},
   "outputs": [],
   "source": [
    "infiles=['C://Users/kerrie/Documents/02_LocalData/tutorials/CMIP6\\\\tasmin_Amon_MPI-ESM-1-2-HAM_historical_r1i1p1f1_gn_185001-186912.nc', 'C://Users/kerrie/Documents/02_LocalData/tutorials/CMIP6\\\\tasmin_Amon_MPI-ESM-1-2-HAM_historical_r1i1p1f1_gn_187001-188912.nc', 'C://Users/kerrie/Documents/02_LocalData/tutorials/CMIP6\\\\tasmin_Amon_MPI-ESM-1-2-HAM_historical_r1i1p1f1_gn_189001-190912.nc', 'C://Users/kerrie/Documents/02_LocalData/tutorials/CMIP6\\\\tasmin_Amon_MPI-ESM-1-2-HAM_historical_r1i1p1f1_gn_191001-192912.nc', 'C://Users/kerrie/Documents/02_LocalData/tutorials/CMIP6\\\\tasmin_Amon_MPI-ESM-1-2-HAM_historical_r1i1p1f1_gn_193001-194912.nc', 'C://Users/kerrie/Documents/02_LocalData/tutorials/CMIP6\\\\tasmin_Amon_MPI-ESM-1-2-HAM_historical_r1i1p1f1_gn_195001-196912.nc', 'C://Users/kerrie/Documents/02_LocalData/tutorials/CMIP6\\\\tasmin_Amon_MPI-ESM-1-2-HAM_historical_r1i1p1f1_gn_197001-198912.nc', 'C://Users/kerrie/Documents/02_LocalData/tutorials/CMIP6\\\\tasmin_Amon_MPI-ESM-1-2-HAM_historical_r1i1p1f1_gn_199001-200912.nc', 'C://Users/kerrie/Documents/02_LocalData/tutorials/CMIP6\\\\tasmin_Amon_MPI-ESM-1-2-HAM_historical_r1i1p1f1_gn_201001-201412.nc']\n",
    "data=xr.open_mfdataset(infiles).sel(time=slice('1914','2014'))\n",
    "data"
   ]
  },
  {
   "cell_type": "code",
   "execution_count": null,
   "metadata": {},
   "outputs": [],
   "source": []
  }
 ],
 "metadata": {
  "kernelspec": {
   "display_name": "Python 3.11.3 ('pyaez_dask')",
   "language": "python",
   "name": "python3"
  },
  "language_info": {
   "codemirror_mode": {
    "name": "ipython",
    "version": 3
   },
   "file_extension": ".py",
   "mimetype": "text/x-python",
   "name": "python",
   "nbconvert_exporter": "python",
   "pygments_lexer": "ipython3",
   "version": "3.11.3"
  },
  "orig_nbformat": 4,
  "vscode": {
   "interpreter": {
    "hash": "65e72b0120c35d75cf65cfd3d4805280e35b271cd085ff832a3f7fa98db0a8ca"
   }
  }
 },
 "nbformat": 4,
 "nbformat_minor": 2
}
