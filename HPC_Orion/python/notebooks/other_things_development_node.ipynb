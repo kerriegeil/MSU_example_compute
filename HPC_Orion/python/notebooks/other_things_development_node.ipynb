{
 "cells": [
  {
   "cell_type": "markdown",
   "id": "dc6016af-0574-4bfe-9a2d-8e6e51548c56",
   "metadata": {},
   "source": [
    "#### start this notebook on \n",
    "\n",
    "- development partition, \n",
    "- 1 node, \n",
    "- 4 tasks, \n",
    "- and don't forget to type your conda env path in the additional kernel locations box\n",
    "\n",
    "#### conda packages needed\n",
    "\n",
    "no additional package installation needed beyond the base environment, i.e. this should run in any environment that has been installed as a Juptyer kernel\n",
    "\n",
    "---"
   ]
  },
  {
   "cell_type": "markdown",
   "id": "6d6b111c-f1c9-4bec-83f5-5bc628ec0b0f",
   "metadata": {},
   "source": [
    "# Things from 2024-03-13 meeting\n",
    "---"
   ]
  },
  {
   "cell_type": "markdown",
   "id": "31b7ea55-139e-4121-8140-1657f42f5082",
   "metadata": {},
   "source": [
    "# ipynb Internal Links / Named Anchors\n",
    "\n",
    "links to a heading are called internal links or named anchors [see the rules here](https://jupyterlab.readthedocs.io/en/stable/user/urls.html#linking-notebook-sections)\n",
    "\n",
    "### Table of Contents Example\n",
    "1) [jump to Section TITLE](#Section-TITLE)\n",
    "2) [heading with an apostrophe](#Kerrie's-section)\n",
    "3) [heading with a question mark](#Section-title-is-a-question?)"
   ]
  },
  {
   "cell_type": "markdown",
   "id": "d7271227-5fd8-48a5-a61a-c690992442a8",
   "metadata": {},
   "source": [
    "### Section TITLE\n",
    "\n",
    "jupyter markdown works a little different than standard markdown, notice capitalization matters in the internal link, it must match exactly\n",
    "\n",
    "\n",
    "[back to TOC](#Table-of-Contents-Example)"
   ]
  },
  {
   "cell_type": "markdown",
   "id": "8a0735eb-72c0-4461-b496-6fff2c3dca4d",
   "metadata": {},
   "source": [
    "### Kerrie's section\n",
    "\n",
    "special characters also work differently that standard markdown\n",
    "\n",
    "[back to top of notebook](#Things-from-2024-03-13-meeting)"
   ]
  },
  {
   "cell_type": "markdown",
   "id": "88df3c23-2fff-4ce8-9eff-53f98123ce87",
   "metadata": {},
   "source": [
    "### Section title is a question?\n",
    "\n",
    "to see what to paste in the link part () of an internal link: hover over the paragraph icon of a rendered heading"
   ]
  },
  {
   "cell_type": "markdown",
   "id": "a22c1476-7f46-488c-8a5a-e035d54b1d1c",
   "metadata": {},
   "source": [
    "# Importing your own custom functions\n",
    "\n",
    "1) Save your functions in a .py script. \n",
    "\n",
    "    Here, I've made file called custom_functions.py in the same directory as this notebook. \n",
    "    \n",
    "    It contains a function called my_addition_func that adds two numbers together\n",
    "\n",
    "2) use 'import' to import your script\n",
    "\n",
    "3) you can access your functions with '.'\n",
    "\n",
    "#### Here are a few different ways to do the same thing:"
   ]
  },
  {
   "cell_type": "code",
   "execution_count": null,
   "id": "e7134015-86ce-4b21-90b9-08d2374f1acd",
   "metadata": {},
   "outputs": [],
   "source": [
    "# plain import\n",
    "\n",
    "import custom_functions\n",
    "\n",
    "custom_functions.my_addition_func(1,2)"
   ]
  },
  {
   "cell_type": "code",
   "execution_count": null,
   "id": "14ba13f8-67d2-40df-a0c3-f82483a13cf8",
   "metadata": {},
   "outputs": [],
   "source": [
    "# rename your collection of functions on import\n",
    "\n",
    "import custom_functions as kerrie\n",
    "\n",
    "kerrie.my_addition_func(1,2)"
   ]
  },
  {
   "cell_type": "code",
   "execution_count": null,
   "id": "a0c90677-6732-43a7-92e9-c7114d544a8d",
   "metadata": {},
   "outputs": [],
   "source": [
    "# import only a single function\n",
    "\n",
    "from custom_functions import my_addition_func\n",
    "\n",
    "my_addition_func(1,2)"
   ]
  },
  {
   "cell_type": "code",
   "execution_count": null,
   "id": "12114c8c-ea6a-417e-9e85-528a825a0fd7",
   "metadata": {},
   "outputs": [],
   "source": [
    "# import a single function and rename it on import\n",
    "\n",
    "from custom_functions import my_addition_func as add_stuff\n",
    "\n",
    "add_stuff(1,2)"
   ]
  },
  {
   "cell_type": "markdown",
   "id": "31e69a5d-1d5f-42a7-a5fb-8ae98a0257f2",
   "metadata": {},
   "source": [
    "#### if custom_functions.py was not in the same directory as this notebook\n",
    "\n",
    "You could create a python package or you could simply tell python where to find your functions. We'll cover the second option here.\n",
    "\n",
    "Tell python where to find your functions: The operating system has speficic places it looks for executables (like your custom functions or functions from python packages or even linux commands like ls or cd). The list of places the operating system looks is in a system variable called 'PATH'. You need to add the directory where your functions live, e.g. \"append your PATH\". \n",
    "\n",
    "I've made an identical script of custom functions at /our/shared/datasets/temporary/pyscript_custom_functions.py\n",
    "\n",
    "The process to import functions from this script would be:"
   ]
  },
  {
   "cell_type": "code",
   "execution_count": null,
   "id": "4bdcc4df-bcbc-47f3-9b9b-3503cdabc32d",
   "metadata": {},
   "outputs": [],
   "source": [
    "import sys"
   ]
  },
  {
   "cell_type": "code",
   "execution_count": null,
   "id": "55019bb9-bc60-478a-8ec4-178ade34a188",
   "metadata": {},
   "outputs": [],
   "source": [
    "basedir='/our/shared/datasets/dir/'"
   ]
  },
  {
   "cell_type": "code",
   "execution_count": null,
   "id": "515b3228-2e20-4294-bd9b-cdd40c63627c",
   "metadata": {},
   "outputs": [],
   "source": [
    "# don't append the script, append the directory where the script lives\n",
    "sys.path.append(basedir+'temporary/')"
   ]
  },
  {
   "cell_type": "code",
   "execution_count": null,
   "id": "b9915b00-e3f6-4796-a6cb-27fe951d5dd3",
   "metadata": {},
   "outputs": [],
   "source": [
    "import pyscript_custom_functions as kerrie"
   ]
  },
  {
   "cell_type": "code",
   "execution_count": null,
   "id": "d8ff080e-f480-4d8f-bdc9-9b93a3be9017",
   "metadata": {},
   "outputs": [],
   "source": [
    "kerrie.my_addition_func(1,2)"
   ]
  },
  {
   "cell_type": "markdown",
   "id": "0ec0d759-048e-4774-8278-64d014f90a77",
   "metadata": {},
   "source": [
    "---\n",
    "# Things from 2024-03-27 meeting\n",
    "---\n",
    "### direct download to Orion with a url (python)\n",
    "\n",
    "Using the URCA data as an example, but this will work on any data for which you can get the url to the actual data file(s) \n",
    "\n",
    "1) Go to the data website [URCA data page](https://figshare.com/articles/dataset/Urban-rural_continuum/12579572)\n",
    "2) from the data page, copy the link address to the data file and paste into the notebook as a string variable (url variable below)\n",
    "3) decide what location on HPC Orion you want to download to and make a string variable (filename variable below)\n",
    "3) use urllib package for downloading (this package is already part of base python so you shouldn't have to install it)\n"
   ]
  },
  {
   "cell_type": "code",
   "execution_count": null,
   "id": "effe79bc-335b-4386-b2e9-15e17c129d88",
   "metadata": {},
   "outputs": [],
   "source": [
    "from urllib.request import urlretrieve"
   ]
  },
  {
   "cell_type": "code",
   "execution_count": null,
   "id": "b943abbb-e998-49c4-9804-a988cca76bb6",
   "metadata": {},
   "outputs": [],
   "source": [
    "basedir='/our/shared/datasets/dir/'\n",
    "url='https://figshare.com/ndownloader/files/25809068'\n",
    "filename=basedir+'temporary/URCA_testdownload.tif'"
   ]
  },
  {
   "cell_type": "code",
   "execution_count": null,
   "id": "741ecdc2-fc13-444b-b539-8281c85f2617",
   "metadata": {},
   "outputs": [],
   "source": [
    "urlretrieve(url, filename)"
   ]
  },
  {
   "cell_type": "markdown",
   "id": "d81ca47b-b97e-46d2-aa2b-937699636df9",
   "metadata": {},
   "source": [
    "what if you have multiple files to download?\n",
    "\n",
    "you can make a list of urls/filenames and loop\n",
    "\n",
    "here we'll just download the same file a bunch of times and name it something different each time"
   ]
  },
  {
   "cell_type": "code",
   "execution_count": null,
   "id": "b2b41b65-3d06-4f47-95ad-01668191205b",
   "metadata": {},
   "outputs": [],
   "source": [
    "# just pretend these are different urls\n",
    "urls=['https://figshare.com/ndownloader/files/25809068',\n",
    "      'https://figshare.com/ndownloader/files/25809068',\n",
    "      'https://figshare.com/ndownloader/files/25809068',\n",
    "      'https://figshare.com/ndownloader/files/25809068']\n",
    "\n",
    "filenames=[basedir+'temporary/URCA_testdownload_1.tif',\n",
    "          basedir+'temporary/URCA_testdownload_2.tif',\n",
    "          basedir+'temporary/URCA_testdownload_3.tif',\n",
    "          basedir+'temporary/URCA_testdownload_4.tif']"
   ]
  },
  {
   "cell_type": "code",
   "execution_count": null,
   "id": "b3616278-5f57-4c61-9f09-aeac48de2014",
   "metadata": {},
   "outputs": [],
   "source": [
    "for url,filename in zip(urls,filenames):\n",
    "    print('downloading /our/shared/datasets/dir/temporary/'+filename[-23:])\n",
    "    urlretrieve(url, filename)"
   ]
  },
  {
   "cell_type": "markdown",
   "id": "71ec5c25-0e37-48ed-b595-99ec690aff66",
   "metadata": {},
   "source": [
    "The other method of downloading from a url would be using the command line in a terminal. Either command wget or curl will work. At the command line you would type\n",
    "\n",
    "```\n",
    "wget https://figshare.com/ndownloader/files/25809068 -O /our/shared/datasets/dir/temporary/URCA_testdownload.tif\n",
    "```\n",
    "\n",
    "for reproducibility you could put this command in a bash script e.g.\n",
    "\n",
    "```\n",
    "nano download.sh\n",
    "```\n",
    "\n",
    "paste the exact wget command from above into the new file called download.sh, then CTL+x, Y, Enter to exit out of nano (you can also make a txt file using Jupyter instead of nano of course)\n",
    "\n",
    "then run the script with\n",
    "\n",
    "```\n",
    "bash download.sh\n",
    "```\n",
    "\n",
    "you can also parallelize downloads of many many files with SLURM commands in the bash script, using multiple cores on HPC Orion to download files"
   ]
  },
  {
   "cell_type": "code",
   "execution_count": null,
   "id": "597b89f8-c115-4cbc-9c28-e57d6747ab0d",
   "metadata": {},
   "outputs": [],
   "source": []
  }
 ],
 "metadata": {
  "kernelspec": {
   "display_name": "Python 3 (ipykernel)",
   "language": "python",
   "name": "python3"
  },
  "language_info": {
   "codemirror_mode": {
    "name": "ipython",
    "version": 3
   },
   "file_extension": ".py",
   "mimetype": "text/x-python",
   "name": "python",
   "nbconvert_exporter": "python",
   "pygments_lexer": "ipython3",
   "version": "3.12.2"
  }
 },
 "nbformat": 4,
 "nbformat_minor": 5
}
