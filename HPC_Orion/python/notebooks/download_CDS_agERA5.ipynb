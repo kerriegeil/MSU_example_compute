{
 "cells": [
  {
   "cell_type": "markdown",
   "metadata": {},
   "source": [
    "# Climate Data Store Download Demo\n",
    "\n",
    "Illustrating how to use the Climate Data Store (CDS) API to download data files from the CDS directly to HPC Orion. This example downloads files from the AgERA5 dataset.\\|\n",
    "\n",
    "Created: March 2024\n",
    "\n",
    "By: Kerrie Geil, Associate Research Professor, Geosystems Research Institute, Mississippi State University"
   ]
  },
  {
   "cell_type": "markdown",
   "metadata": {},
   "source": [
    "# Set up\n",
    "\n",
    "Prerequisites for running this notebook include: \n",
    "1) Self register at the [CDS registration page](https://cds.climate.copernicus.eu/user/register?destination=%2F%23!%2Fhome) if you don't already have an account\n",
    "2) Create a file called .cdsapirc containing the cdsapi url and your key to your home directory. [Instructions for installing the CDS API key](https://cds.climate.copernicus.eu/api-how-to#install-the-cds-api-key). Remember you can use the nano text editor to create files at the command line.\n",
    "3) Create a conda environment with the cdsapi and ipykernel packages installed if you don't already have this\n",
    "4) Create a jupyter kernel from the conda environment of the previous step if you don't already have this\n",
    "5) Launch a jupyter session:\n",
    "    - on a development node,\n",
    "    - with kernel path in additional slurm parameters (e.g. /your-personal-work-directory/envs/cdsapi/share/jupyter)\n"
   ]
  },
  {
   "cell_type": "code",
   "execution_count": null,
   "metadata": {},
   "outputs": [],
   "source": [
    "import cdsapi\n",
    "import os\n",
    "import sys\n",
    "import glob\n",
    "import subprocess"
   ]
  },
  {
   "cell_type": "code",
   "execution_count": null,
   "metadata": {},
   "outputs": [],
   "source": [
    "basedir='/path/to/our/shared/datasets/dir/'\n",
    "outputdir=basedir+'temporary/AgERA5/'\n",
    "year_start=2015\n",
    "year_end=2016\n",
    "\n",
    "if not os.path.exists(outputdir):\n",
    "    os.makedirs(outputdir)"
   ]
  },
  {
   "cell_type": "markdown",
   "metadata": {},
   "source": [
    "Let's say we want to download daily 2m maximum temperature data for 3 years from the AgERA5 dataset. Go to the [CDS data download page for AgERA5](https://cds.climate.copernicus.eu/cdsapp#!/dataset/sis-agrometeorological-indicators?tab=form). Select 2m temperature, 24 hour maximum, a single year, all months, all days, the latest version, global geographic area, compressed tar file. Then scroll to the bottom of the page to see the API request. This API request is the code that we have copied below to which we have added some modifications.\n",
    "\n",
    "Modifications\n",
    "1) We change the name of the file from download.tar.gz and include the full path of where we want to download it to\n",
    "2) We loop the API call by year in order to download multiple years. You will find that trying to get multiple years of daily data at once is too large a request for the Climate Data Store and for this reason we loop our requests so we don't run into the CDS request size limit.\n"
   ]
  },
  {
   "cell_type": "code",
   "execution_count": null,
   "metadata": {},
   "outputs": [],
   "source": [
    "# connect to the Climate Data Store\n",
    "c=cdsapi.Client()"
   ]
  },
  {
   "cell_type": "code",
   "execution_count": null,
   "metadata": {},
   "outputs": [],
   "source": [
    "# api call\n",
    "for year in range (year_start,year_end+1):\n",
    "    c.retrieve(\n",
    "    'sis-agrometeorological-indicators',\n",
    "    {\n",
    "        'variable': '2m_temperature',\n",
    "        'year': str(year),\n",
    "        'month': [\n",
    "            '01', '02', '03',\n",
    "            '04', '05', '06',\n",
    "            '07', '08', '09',\n",
    "            '10', '11', '12',\n",
    "        ],\n",
    "        'day': [\n",
    "            '01', '02', '03',\n",
    "            '04', '05', '06',\n",
    "            '07', '08', '09',\n",
    "            '10', '11', '12',\n",
    "            '13', '14', '15',\n",
    "            '16', '17', '18',\n",
    "            '19', '20', '21',\n",
    "            '22', '23', '24',\n",
    "            '25', '26', '27',\n",
    "            '28', '29', '30',\n",
    "            '31',\n",
    "        ],\n",
    "        'version': '1_1',\n",
    "        'format': 'tgz',\n",
    "        'statistic': '24_hour_maximum',        \n",
    "    },\n",
    "    outputdir+'AgERA5_'+str(year)+'.tar.gz')"
   ]
  },
  {
   "cell_type": "markdown",
   "metadata": {},
   "source": [
    "if you want to unpack the tar.gz files with python instead of at the command line you can do the following"
   ]
  },
  {
   "cell_type": "code",
   "execution_count": null,
   "metadata": {},
   "outputs": [],
   "source": [
    "# unzip/untar into directories by year\n",
    "for year in range (year_start,year_end+1):\n",
    "    print(year)\n",
    "    \n",
    "    # create the dir if it doesn't exist\n",
    "    if not os.path.exists(outputdir+str(year)):\n",
    "        os.makedirs(outputdir+str(year))\n",
    "    \n",
    "    # get the file name\n",
    "    try:\n",
    "        filename=glob.glob(outputdir+'AgERA5_'+str(year)+'.tar*')[0]\n",
    "    except:\n",
    "        sys.exit(str(year)+' problem finding file '+filename)\n",
    "        \n",
    "    # bash command to untar into the yearly directories  \n",
    "    os.chdir(outputdir)\n",
    "    subprocess.run(['tar', 'xf', filename, '-C', str(year)],check=True, text=True)"
   ]
  },
  {
   "cell_type": "markdown",
   "metadata": {},
   "source": [
    "and the following will delete the tar files"
   ]
  },
  {
   "cell_type": "code",
   "execution_count": null,
   "metadata": {},
   "outputs": [],
   "source": [
    "# remove the tar files since we don't need them any more\n",
    "for year in range (year_start,year_end+1):\n",
    "    f=glob.glob(outputdir+'AgERA5_'+str(year)+'.tar*')[0]\n",
    "    subprocess.run(['rm', f],check=True, text=True)"
   ]
  }
 ],
 "metadata": {
  "kernelspec": {
   "display_name": "cdsapi",
   "language": "python",
   "name": "cdsapi"
  },
  "language_info": {
   "codemirror_mode": {
    "name": "ipython",
    "version": 3
   },
   "file_extension": ".py",
   "mimetype": "text/x-python",
   "name": "python",
   "nbconvert_exporter": "python",
   "pygments_lexer": "ipython3",
   "version": "3.12.2"
  }
 },
 "nbformat": 4,
 "nbformat_minor": 4
}
