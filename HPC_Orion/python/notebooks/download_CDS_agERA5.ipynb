{
 "cells": [
  {
   "cell_type": "markdown",
   "metadata": {},
   "source": [
    "# Climate Data Store Download Demo\n",
    "\n",
    "Illustrating how to use the CDS api to download the AgERA5 dataset in parallel.\n",
    "\n",
    "To run this notebook you must open it on a development node and supply the path to a kernel where the cdsapi package is install. Either create your own conda environment and jupyter kernel or use the one at /work/hpc/users/kerrie/UN_FAO/cdsapi/share/jupyter\n",
    "\n",
    "NOTE: it's better to do this with a .py script and run it at the command line. All the outputs from the api calls will eventually crash this notebook if you are downloading many files"
   ]
  },
  {
   "cell_type": "code",
   "execution_count": null,
   "metadata": {},
   "outputs": [],
   "source": [
    "import cdsapi\n",
    "import numpy as np\n",
    "import dask\n",
    "import os\n",
    "import glob\n",
    "import subprocess\n",
    "import sys"
   ]
  },
  {
   "cell_type": "code",
   "execution_count": null,
   "metadata": {},
   "outputs": [],
   "source": [
    "# directory to save downloads in\n",
    "data_dir='/work/hpc/datasets/unfao_sera/temporary/agERA5/'\n",
    "\n",
    "if not os.path.exists(data_dir):\n",
    "    os.makedirs(data_dir)"
   ]
  },
  {
   "cell_type": "code",
   "execution_count": null,
   "metadata": {},
   "outputs": [],
   "source": [
    "# generate all the api call info for all the data we want\n",
    "\n",
    "# we want to grab daily maximum temperature for a few years\n",
    "\n",
    "# the api only allows you to grab about 1 year at a time due to size constraints\n",
    "\n",
    "# list of strings\n",
    "months=[str(s).zfill(2) for s in np.arange(12)+1]\n",
    "days=[str(s).zfill(2) for s in np.arange(31)+1]\n",
    "years=[str(s) for s in np.arange(2014,2024)]\n",
    "\n",
    "# other cds api things\n",
    "dataset='sis-agrometeorological-indicators'\n",
    "base_dict={'variable':'2m_temperature',\n",
    "           'statistic':'day_time_maximum',\n",
    "           'month':months,\n",
    "           'day':days,\n",
    "           'format':'tgz',\n",
    "           'version':'1_1'}\n",
    "outvar='tmax'\n",
    "\n",
    "\n",
    "print(years)\n",
    "print('--------')\n",
    "print(months)\n",
    "print('--------')\n",
    "print(days)                "
   ]
  },
  {
   "cell_type": "code",
   "execution_count": null,
   "metadata": {},
   "outputs": [],
   "source": [
    "# this is the api call\n",
    "# put it in a delayed function so we can download in parallel\n",
    "    \n",
    "@dask.delayed\n",
    "def get_1yr_daily(ds,y,vd,dd,vo):\n",
    "    c = cdsapi.Client()\n",
    "    c.retrieve(\n",
    "    ds,\n",
    "    vd,\n",
    "    dd+vo+'_AgERA5_daily_'+y+'.tar.gz')    "
   ]
  },
  {
   "cell_type": "code",
   "execution_count": null,
   "metadata": {},
   "outputs": [],
   "source": [
    "tasklist=[]\n",
    "for year in years:\n",
    "    # add to the dictionary for the api call\n",
    "    vardict=base_dict\n",
    "    vardict['year']=year\n",
    "    # build a dask delayed task list\n",
    "    tasklist.append(get_1yr_daily(dataset,year,vardict,data_dir,outvar))"
   ]
  },
  {
   "cell_type": "code",
   "execution_count": null,
   "metadata": {},
   "outputs": [],
   "source": [
    "# will request 1 var, separate call for each of n years, so we should have n tasks\n",
    "print(len(tasklist))\n",
    "\n",
    "# this is what a task looks like (a dask delayed object)\n",
    "tasklist[0]"
   ]
  },
  {
   "cell_type": "code",
   "execution_count": null,
   "metadata": {},
   "outputs": [],
   "source": [
    "# let er rip\n",
    "dask.compute(*tasklist)"
   ]
  },
  {
   "cell_type": "code",
   "execution_count": null,
   "metadata": {},
   "outputs": [],
   "source": [
    "# unzip/untar into directories by year\n",
    "for year in years:\n",
    "    print(year)\n",
    "    # create the dir if it doesn't exist\n",
    "    if not os.path.exists(data_dir+year):\n",
    "        os.makedirs(data_dir+year)\n",
    "    # get the file name\n",
    "    try:\n",
    "        filename=glob.glob(data_dir+'tmax_AgERA5_daily_'+year+'.tar*')[0]\n",
    "    except:\n",
    "        sys.exit('problem with',year)\n",
    "    # bash command to untar into the yearly directories  \n",
    "    os.chdir(data_dir)\n",
    "    subprocess.run(['tar', 'xf', filename, '-C', year],check=True, text=True)"
   ]
  },
  {
   "cell_type": "code",
   "execution_count": null,
   "metadata": {},
   "outputs": [],
   "source": [
    "# remove the tar files since we don't need them any more\n",
    "files=glob.glob(data_dir+'tmax_AgERA5_daily_*.tar*')\n",
    "for f in files:\n",
    "    subprocess.run(['rm', f],check=True, text=True)"
   ]
  },
  {
   "cell_type": "code",
   "execution_count": null,
   "metadata": {},
   "outputs": [],
   "source": []
  }
 ],
 "metadata": {
  "kernelspec": {
   "display_name": "cdsapi",
   "language": "python",
   "name": "cdsapi"
  },
  "language_info": {
   "codemirror_mode": {
    "name": "ipython",
    "version": 3
   },
   "file_extension": ".py",
   "mimetype": "text/x-python",
   "name": "python",
   "nbconvert_exporter": "python",
   "pygments_lexer": "ipython3",
   "version": "3.11.3"
  }
 },
 "nbformat": 4,
 "nbformat_minor": 4
}
