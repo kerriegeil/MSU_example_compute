{
 "cells": [
  {
   "cell_type": "markdown",
   "id": "77033069-d3b1-4eaa-826e-b2d1e40b4d26",
   "metadata": {},
   "source": [
    "# Python Resample/Regrid Examples\n",
    "\n",
    "This notebook will cover how to resample data onto a common grid usually a few different python pacakges.\n",
    "\n",
    "----"
   ]
  },
  {
   "cell_type": "markdown",
   "id": "9d8f6a94-7805-456e-a580-0dbd5796bb2c",
   "metadata": {},
   "source": [
    "You will need a custom jupyter kernel to run this notebook on HPC Orion. \n",
    "\n",
    "At the command line create a custom kernel called resample:\n",
    "\n",
    "conda create -y --prefix /path/to/your/personal/work/dir/envs/resample -c conda-forge xarray rioxarray rasterio gdal matplotlib glob2 netcdf4 ipykernel\n",
    "\n",
    "conda activate /path/to/your/personal/work/dir/envs/resample\n",
    "\n",
    "python -m ipykernel install --prefix /path/to/your/personal/work/dir/envs/resample --name resample\n",
    "\n",
    "and don't forget to add the kernel path in the kernel box when you launch jupyter"
   ]
  },
  {
   "cell_type": "code",
   "execution_count": null,
   "id": "eaacd56f-8157-4d3d-8ebe-7fd3a9845c9c",
   "metadata": {},
   "outputs": [],
   "source": [
    "# all the packages we'll use\n",
    "\n",
    "import rioxarray as rio\n",
    "from osgeo import gdal\n",
    "gdal.UseExceptions()\n",
    "import numpy as np\n",
    "import matplotlib.pyplot as plt\n",
    "import glob\n",
    "from rasterio.enums import Resampling\n",
    "import xarray as xr\n",
    "import re"
   ]
  },
  {
   "cell_type": "code",
   "execution_count": null,
   "id": "61f9e516-0a7f-4cb2-a083-26a2190b2eae",
   "metadata": {},
   "outputs": [],
   "source": [
    "# files and directories we'll use\n",
    "\n",
    "# path to the root dir for our datasets\n",
    "base_path='/work/hpc/datasets/unfao_sera/'#'/our/shared/datasets/dir/'\n",
    "\n",
    "# dir to write output\n",
    "outdir=base_path+'temporary/'\n",
    "\n",
    "# file to use as the common grid\n",
    "gridfile=base_path+'raw_data/WorldPop/ppp_2010_1km_Aggregated.tiff'"
   ]
  },
  {
   "cell_type": "markdown",
   "id": "b5a7b5c4-b181-4d77-ba54-e56ea8a9a890",
   "metadata": {},
   "source": [
    "## First up, gdal package\n",
    "\n",
    "GDAL is a long-time standard for spatial resampling and more. It is often used as a command line tool but most gdal functions are also available in a python package. I find gdal to be confusing and the documentation hard to decipher. In the section after this one I'll show an example of a different package that is using gdal under the hood but is easier to use in my opinion.\n",
    "\n",
    "Here we use the WorldPop/ppp_2010_1km_Aggregated.tiff as the common grid and resample other datasets to this common grid"
   ]
  },
  {
   "cell_type": "markdown",
   "id": "c8dd314c-aa6e-47f7-afe6-7a8a3b1dd00b",
   "metadata": {},
   "source": [
    "using rioxarray package just to look inside the data files"
   ]
  },
  {
   "cell_type": "code",
   "execution_count": null,
   "id": "125f8235-fe8c-4889-ac5f-74879df3d307",
   "metadata": {},
   "outputs": [],
   "source": [
    "# file to resample\n",
    "rawdatafile=base_path+'raw_data/URCA/URCA.tif'"
   ]
  },
  {
   "cell_type": "code",
   "execution_count": null,
   "id": "c88355aa-01a9-4a4a-a7e1-c3cad3fde9d6",
   "metadata": {},
   "outputs": [],
   "source": [
    "# get a look at what's inside the file with the common grid\n",
    "pop = rio.open_rasterio(gridfile,mask_and_scale=True)\n",
    "pop"
   ]
  },
  {
   "cell_type": "code",
   "execution_count": null,
   "id": "99714b9e-3a3d-4f90-a4b8-fef1e276fb6a",
   "metadata": {},
   "outputs": [],
   "source": [
    "# get a look at what's inside the file that we want to resample\n",
    "urca=rio.open_rasterio(rawdatafile,mask_and_scale=True)\n",
    "urca"
   ]
  },
  {
   "cell_type": "markdown",
   "id": "6ef7ed1e-ed6b-4c07-be3e-081571b9c4e3",
   "metadata": {},
   "source": [
    "using gdal package to do the resampling"
   ]
  },
  {
   "cell_type": "code",
   "execution_count": null,
   "id": "b60fffb8-1fdb-464f-829c-d75768086088",
   "metadata": {},
   "outputs": [],
   "source": [
    "# use gdal to resample\n",
    "# the main functions we want are osgeo.gdal.Warp and osgeo.gdal.WarpOptions described at https://gdal.org/api/python/osgeo.gdal.html\n",
    "# the other osgeo.gdal functions we use are also at that page (.Open, .GetProjection, .Info, .GetGeoTransform)\n",
    "\n",
    "reference=gdal.Open(gridfile,0) # create a gdal object\n",
    "ref_proj=reference.GetProjection() # get file projection info\n",
    "minx, x_res, xskew, maxy, yskew, y_res =reference.GetGeoTransform() # get transform info\n",
    "info=gdal.Info(reference,**{'format':'json'}) # get other file info into a big dictionary\n",
    "maxx,miny=info['cornerCoordinates']['lowerRight'] # pull the lower right boundary extents from the info dictionary\n",
    "\n",
    "filename=str.split(rawdatafile,'/')[-1] # pull just the filename out of the long path\n",
    "outfile=outdir+filename[0:-4]+'_stdgrid'+filename[-4:] # new path/name for resampled data file\n",
    "print('file to read',rawdatafile)\n",
    "print('file to write',outfile)\n",
    "\n",
    "# all available options to include in this dictionary will be described under osgeo.gdal.WarpOptions \n",
    "# this is where you include the resampling method. Default is nearest neighbor. Other options described under -r here https://gdal.org/programs/gdalwarp.html\n",
    "kwargs={\"format\": \"GTiff\", \n",
    "        \"xRes\": x_res, \n",
    "        \"yRes\": y_res,\n",
    "        \"outputBounds\":[minx,miny,maxx,maxy],\n",
    "        \"outputBoundsSRS\":ref_proj,\n",
    "        \"resampleAlg\":\"bilinear\"}\n",
    "\n",
    "# see some of this info\n",
    "print(x_res,y_res)\n",
    "print(minx,miny,maxx,maxy)\n",
    "print(ref_proj)"
   ]
  },
  {
   "cell_type": "code",
   "execution_count": null,
   "id": "22a81e0f-4b8c-44dc-a895-88c0fe9f46ae",
   "metadata": {},
   "outputs": [],
   "source": [
    "%%time\n",
    "# do the resampling and write the results to a tiff file\n",
    "# pretty sure you could write to netcdf too but I've never done that with gdal\n",
    "ds=gdal.Warp(outfile,rawdatafile,**kwargs)"
   ]
  },
  {
   "cell_type": "code",
   "execution_count": null,
   "id": "3ab98f12-9fef-4622-920d-ea668a1749ac",
   "metadata": {},
   "outputs": [],
   "source": [
    "# open the new file and checkout what is inside\n",
    "urca_r=rio.open_rasterio(outfile,mask_and_scale=True)\n",
    "urca_r"
   ]
  },
  {
   "cell_type": "code",
   "execution_count": null,
   "id": "353c7d87-3b1e-479a-973f-aacd56cb75d1",
   "metadata": {},
   "outputs": [],
   "source": [
    "# double check that the new file has the exact same grid as the reference file\n",
    "# np.unique() will print all the unique values of an array. If results are identicalm then the difference array should return only a single value: 0\n",
    "print(np.unique(pop.x.data-urca_r.x.data)) \n",
    "print(np.unique(pop.y.data-urca_r.y.data))\n",
    "\n",
    "# another way to do this\n",
    "# if arrays are equal this prints nothing, if arrays are not equal this throws an error\n",
    "np.testing.assert_array_equal(urca_r.x.data,pop.x.data,verbose=True)\n",
    "np.testing.assert_array_equal(urca_r.y.data,pop.y.data,verbose=True)"
   ]
  },
  {
   "cell_type": "code",
   "execution_count": null,
   "id": "60c2fe47-1a83-49cc-9db5-b64d71a5b846",
   "metadata": {},
   "outputs": [],
   "source": [
    "# double check things visually to make sure the resample didn't do anything crazy\n",
    "\n",
    "fig = plt.figure(figsize=(10,5))\n",
    "\n",
    "# plot raw data\n",
    "ax = fig.add_subplot(121) # 121 = 1 row of plots, 2 cols of plots, 1st plot\n",
    "urca.sel(y=slice(60,30),x=slice(-90,-60)).plot(ax=ax)\n",
    "plt.title('URCA raw')\n",
    "\n",
    "# plot resampled data\n",
    "ax = fig.add_subplot(122) # 122 = 1 row of plots, 2 cols of plots, 2nd plot\n",
    "urca_r.sel(y=slice(60,30),x=slice(-90,-60)).plot(ax=ax)\n",
    "plt.title('URCA resampled')\n",
    "\n",
    "plt.tight_layout()\n",
    "\n",
    "plt.show()"
   ]
  },
  {
   "cell_type": "markdown",
   "id": "35d2edc5-1f0f-498c-97db-0ffdea052bb3",
   "metadata": {},
   "source": [
    "## Second, we could use rioaxarray & rasterio packages\n",
    "\n",
    "rioxarray .reproject_match function is based on rasterio.warp.reproject() which is just gdal.warp recoded into a new package with less confusing functions to deal with. With rio_xarray's .reproject_match condenses all the gdal stuff above into a single line of code\n",
    "\n",
    "and the results of the resampling should be identical\n",
    "\n",
    "Also, it looks like there is a way to chunk the read/resample/write with rasterio WarpedVRT. I'm not familiar with it and these files process quickly anyways"
   ]
  },
  {
   "cell_type": "code",
   "execution_count": null,
   "id": "3f1661c3-6416-4adb-a2ca-c78a8a7e3ce6",
   "metadata": {},
   "outputs": [],
   "source": [
    "%%time\n",
    "# this takes about the same amount of time as the gdal resampling in the previous section\n",
    "# you can send the same kwargs as above or not send anything as we do below\n",
    "# reproject_match is from rioxarray package and is smart enough to get the info it needs from urca and pop\n",
    "# Resampling.bilinear is from rasterio package\n",
    "# notice that this doesn't write to a file though, we'll have to do that ourselves\n",
    "urca_r_rio=urca.rio.reproject_match(pop,resampling=Resampling.bilinear)\n",
    "urca_r_rio"
   ]
  },
  {
   "cell_type": "code",
   "execution_count": null,
   "id": "e0d054cd-e65d-480e-9156-e5fd66edd800",
   "metadata": {},
   "outputs": [],
   "source": [
    "# double check for grid differences\n",
    "np.testing.assert_array_equal(urca_r_rio.x.data,pop.x.data,verbose=True)\n",
    "np.testing.assert_array_equal(urca_r_rio.y.data,pop.y.data,verbose=True)"
   ]
  },
  {
   "cell_type": "code",
   "execution_count": null,
   "id": "e8134328-46ea-4887-bc41-045c6e9eaaa8",
   "metadata": {},
   "outputs": [],
   "source": [
    "# double check things visually to make sure the resample didn't do anything crazy\n",
    "\n",
    "fig = plt.figure(figsize=(10,5))\n",
    "\n",
    "# plot raw data\n",
    "ax = fig.add_subplot(121) # 121 = 1 row of plots, 2 cols of plots, 1st plot\n",
    "urca.sel(y=slice(60,30),x=slice(-90,-60)).plot(ax=ax)\n",
    "plt.title('URCA raw')\n",
    "\n",
    "# plot resampled data\n",
    "ax = fig.add_subplot(122) # 122 = 1 row of plots, 2 cols of plots, 2nd plot\n",
    "urca_r_rio.sel(y=slice(60,30),x=slice(-90,-60)).plot(ax=ax)\n",
    "plt.title('URCA resampled')\n",
    "\n",
    "plt.tight_layout()\n",
    "\n",
    "plt.show()"
   ]
  },
  {
   "cell_type": "markdown",
   "id": "6039c0e0-7928-4031-9524-8c228dd1560b",
   "metadata": {},
   "source": [
    "writing out files:"
   ]
  },
  {
   "cell_type": "code",
   "execution_count": null,
   "id": "ac7908be-061f-4471-8eef-b45bd0ac6c14",
   "metadata": {},
   "outputs": [],
   "source": [
    "%%time\n",
    "# how to write the resampled data to tiff\n",
    "# .to_raster is from rioxarray\n",
    "outfile=outdir+'ucra_r_rio_stdgrid.tif'\n",
    "urca_r_rio.rio.to_raster(outfile)"
   ]
  },
  {
   "cell_type": "code",
   "execution_count": null,
   "id": "132cf675-85d1-4187-822f-7d2110d84c21",
   "metadata": {},
   "outputs": [],
   "source": [
    "%%time\n",
    "# tiled tif\n",
    "outfile=outdir+'ucra_r_rio_tiled_stdgrid.tif'\n",
    "urca_r_rio.rio.to_raster(outfile,tiled=True,windowed=True)"
   ]
  },
  {
   "cell_type": "code",
   "execution_count": null,
   "id": "d7dd2dc8-790b-4b7b-ac43-92c7756783b4",
   "metadata": {},
   "outputs": [],
   "source": [
    "%%time\n",
    "# how to write resampled data to netcdf\n",
    "# to_netcdf is from xarray\n",
    "\n",
    "# first, name the variable and get rid of the \"band\" dim\n",
    "varname='urca'\n",
    "ds_out=urca_r_rio.squeeze().to_dataset(name=varname)\n",
    "del ds_out.coords['band']\n",
    "\n",
    "# assign variable metadata\n",
    "var_attrs={'standard_name':varname,\n",
    "          'long_name':'urban_rural_catchment_areas',\n",
    "          'units':'none',\n",
    "          'description':'UCRA S0 category',\n",
    "          'coordinates':'spatial_ref'}\n",
    "global_attrs={'documentation':'/work/hpc/datasets/unfao_sera/raw_data/URCA/ReadMe_data_description.docx'}\n",
    "\n",
    "ds_out[varname].attrs=var_attrs\n",
    "ds_out=ds_out.assign_attrs(global_attrs)\n",
    "\n",
    "# define encoding\n",
    "y_encoding={'_FillValue':None}\n",
    "x_encoding={'_FillValue':None}\n",
    "var_encoding = {'dtype':'float32'}  \n",
    "\n",
    "# write to file\n",
    "outfile=outdir+'ucra_r_rio_stdgrid.nc'\n",
    "ds_out.to_netcdf(outfile,\n",
    "                 mode='w',\n",
    "                encoding={'y':y_encoding,\n",
    "                          'x':x_encoding,\n",
    "                          varname:var_encoding})\n",
    "ds_out\n"
   ]
  },
  {
   "cell_type": "markdown",
   "id": "325278d6-9349-45a7-9a01-b6f0ecaa2254",
   "metadata": {},
   "source": [
    "## Now let's try with the other datasets\n",
    "\n",
    "## GAEZ"
   ]
  },
  {
   "cell_type": "code",
   "execution_count": null,
   "id": "6ae24829-472e-4838-a5e2-dff44e52305f",
   "metadata": {},
   "outputs": [],
   "source": [
    "dataset='GAEZ'\n",
    "rawdatafile=base_path+'raw_data/'+dataset+'/aez_v9v2_CRUTS32_Hist_8110_100_avg.tif'\n",
    "resample_method=Resampling.nearest"
   ]
  },
  {
   "cell_type": "code",
   "execution_count": null,
   "id": "d3f2855c-5abe-41fb-ae8f-e5b2fc6aae48",
   "metadata": {},
   "outputs": [],
   "source": [
    "data=rio.open_rasterio(rawdatafile,mask_and_scale=True)\n",
    "data"
   ]
  },
  {
   "cell_type": "code",
   "execution_count": null,
   "id": "d357480d-0a91-46ab-907e-b2d7cd569f4b",
   "metadata": {},
   "outputs": [],
   "source": [
    "%%time\n",
    "data_r=data.rio.reproject_match(pop,resampling=resample_method)\n",
    "data_r\n"
   ]
  },
  {
   "cell_type": "code",
   "execution_count": null,
   "id": "cb772fda-5452-4632-ac0d-cfd02332aa93",
   "metadata": {},
   "outputs": [],
   "source": [
    "# double check for grid differences\n",
    "np.testing.assert_array_equal(data_r.x.data,pop.x.data,verbose=True)\n",
    "np.testing.assert_array_equal(data_r.y.data,pop.y.data,verbose=True)"
   ]
  },
  {
   "cell_type": "code",
   "execution_count": null,
   "id": "73c1ac21-110d-4136-a0cb-3fe057c9bc88",
   "metadata": {},
   "outputs": [],
   "source": [
    "# double check things visually to make sure the resample didn't do anything crazy\n",
    "\n",
    "fig = plt.figure(figsize=(10,5))\n",
    "\n",
    "# plot raw data\n",
    "ax = fig.add_subplot(121) # 121 = 1 row of plots, 2 cols of plots, 1st plot\n",
    "data.sel(y=slice(60,30),x=slice(-90,-60)).plot(ax=ax)\n",
    "plt.title('GAEZ raw')\n",
    "\n",
    "# plot resampled data\n",
    "ax = fig.add_subplot(122) # 122 = 1 row of plots, 2 cols of plots, 2nd plot\n",
    "data_r.sel(y=slice(60,30),x=slice(-90,-60)).plot(ax=ax)\n",
    "plt.title('GAEZ resampled')\n",
    "\n",
    "plt.tight_layout()\n",
    "\n",
    "plt.show()"
   ]
  },
  {
   "cell_type": "code",
   "execution_count": null,
   "id": "28079f87-75a8-4aa4-8b97-7df6d9fd377f",
   "metadata": {},
   "outputs": [],
   "source": [
    "%%time\n",
    "# how to write the resampled data to tiff\n",
    "# .to_raster is from rioxarray\n",
    "outfile=outdir+'gaez_stdgrid_8110.tif'\n",
    "data_r.rio.to_raster(outfile)"
   ]
  },
  {
   "cell_type": "markdown",
   "id": "19f5736d-9700-410a-bbdb-793d036e7c36",
   "metadata": {},
   "source": [
    "## ESA landcover"
   ]
  },
  {
   "cell_type": "code",
   "execution_count": null,
   "id": "fbbec3e5-6c0f-4c21-a1e6-69376b7ecb35",
   "metadata": {},
   "outputs": [],
   "source": [
    "dataset='ERA5'\n",
    "data_dir=base_path+'raw_data/'+dataset+'/dataset-satellite-land-cover/'\n",
    "resample_method=Resampling.nearest\n",
    "\n",
    "# looks like some of these files may have gotten corrupted\n",
    "# ncdump at command line indicates these files are ok: 2010,2013,2014,2015,2020\n",
    "# ncdump at command line indicates these files are broken: 2011,2012,2016,2017,2018,2019\n",
    "# this is the full list of files but we'll start with just a single file, the last one (2010)\n",
    "rawdatafiles=glob.glob(data_dir+'*.nc')\n",
    "rawdatafiles"
   ]
  },
  {
   "cell_type": "code",
   "execution_count": null,
   "id": "d3843f16-6325-47a6-9672-1aa237f39f14",
   "metadata": {},
   "outputs": [],
   "source": [
    "# for netcdf open with xarray instead of rioxarray\n",
    "f=rawdatafiles[-1] # try one file first\n",
    "ds=xr.open_dataset(f)\n",
    "ds"
   ]
  },
  {
   "cell_type": "code",
   "execution_count": null,
   "id": "035fc8ca-c3b3-4950-ad17-a1320bf5b9e0",
   "metadata": {},
   "outputs": [],
   "source": [
    "# assign the crs and transform to the land cover class variable\n",
    "lc=ds.lccs_class # pull variable from dataset\n",
    "lc.rio.write_crs(ds.crs.attrs['wkt'],inplace=True) # write crs in dataset to variable\n",
    "lc.rio.write_transform(inplace=True) # calculate the transform (double check it's the same and in the ds)\n",
    "lc"
   ]
  },
  {
   "cell_type": "code",
   "execution_count": null,
   "id": "3ff1153b-b7cc-4b73-ab22-54b8bda9bdd3",
   "metadata": {},
   "outputs": [],
   "source": [
    "%%time\n",
    "# notice since .reproject_match is matching the grid in pop that\n",
    "# it will change the labels of lc from (lat,lon) to (y,x)\n",
    "# as well as take all the attributes (names, units, etc) of y,x from pop as well\n",
    "lc_r=lc.rio.reproject_match(pop,resampling=resample_method)\n",
    "lc_r"
   ]
  },
  {
   "cell_type": "code",
   "execution_count": null,
   "id": "5f3f985c-edd2-453c-b7bc-5bb648d43591",
   "metadata": {},
   "outputs": [],
   "source": [
    "# double check for grid differences\n",
    "np.testing.assert_array_equal(lc_r.x.data,pop.x.data,verbose=True)\n",
    "np.testing.assert_array_equal(lc_r.y.data,pop.y.data,verbose=True)"
   ]
  },
  {
   "cell_type": "code",
   "execution_count": null,
   "id": "0d7deb44-5f8f-406e-97f4-05f5a9e3d4dc",
   "metadata": {},
   "outputs": [],
   "source": [
    "# double check things visually to make sure the resample didn't do anything crazy\n",
    "\n",
    "fig = plt.figure(figsize=(10,5))\n",
    "\n",
    "# plot raw data\n",
    "ax = fig.add_subplot(121) # 121 = 1 row of plots, 2 cols of plots, 1st plot\n",
    "lc.sel(lat=slice(60,30),lon=slice(-90,-60)).plot(ax=ax) # use lat,lon here, that's what's in the raw data\n",
    "plt.title('ESA landcover raw')\n",
    "\n",
    "# plot resampled data\n",
    "ax = fig.add_subplot(122) # 122 = 1 row of plots, 2 cols of plots, 2nd plot\n",
    "lc_r.sel(y=slice(60,30),x=slice(-90,-60)).plot(ax=ax)  # use y,x here, that's what is written to our resampled variable\n",
    "plt.title('ESA landcover resampled')\n",
    "\n",
    "plt.tight_layout()\n",
    "\n",
    "plt.show()"
   ]
  },
  {
   "cell_type": "code",
   "execution_count": null,
   "id": "ee3d6ea2-ecc6-499c-ae61-717e43ed43e8",
   "metadata": {},
   "outputs": [],
   "source": [
    "%%time\n",
    "# how to write the resampled data to tiff\n",
    "# .to_raster is from rioxarray\n",
    "\n",
    "# first get the year string from the filename\n",
    "yyyy=re.search('P1Y-....',f).group()[-4:]\n",
    "\n",
    "outfile=outdir+'land_cover_lccs_stdgrid_'+yyyy+'.tif'\n",
    "lc_r.rio.to_raster(outfile)"
   ]
  },
  {
   "cell_type": "markdown",
   "id": "9a9deea9-74ed-43fa-b0f9-e24ebf38a3bd",
   "metadata": {},
   "source": [
    "process the rest of the landcover files that aren't corrupted"
   ]
  },
  {
   "cell_type": "code",
   "execution_count": null,
   "id": "4363a7c2-9fb4-4216-9462-191b69ae6b8c",
   "metadata": {},
   "outputs": [],
   "source": [
    "for fi,f in enumerate(rawdatafiles[0:-2]):\n",
    "    print('processing file',fi+1,'of',len(rawdatafiles[0:-2]),':',f)\n",
    "    try:\n",
    "         with xr.open_dataset(f) as ds:\n",
    "            print('...resampling...')\n",
    "            lc=ds.lccs_class # pull variable from dataset\n",
    "            lc.rio.write_crs(ds.crs.attrs['wkt'],inplace=True) # write crs in dataset to variable\n",
    "            lc.rio.write_transform(inplace=True) # calculate the transform (double check it's the same and in the ds)\n",
    "            lc_r=lc.rio.reproject_match(pop,resampling=resample_method) # resample\n",
    "\n",
    "            # double check for grid differences\n",
    "            np.testing.assert_array_equal(lc_r.x.data,pop.x.data,verbose=True)\n",
    "            np.testing.assert_array_equal(lc_r.y.data,pop.y.data,verbose=True)\n",
    "                        \n",
    "            # double check things visually to make sure the resample didn't do anything crazy\n",
    "            print('...plotting...')\n",
    "            fig = plt.figure(figsize=(10,5))\n",
    "            # plot raw data\n",
    "            ax = fig.add_subplot(121) # 121 = 1 row of plots, 2 cols of plots, 1st plot\n",
    "            lc.sel(lat=slice(60,30),lon=slice(-90,-60)).plot(ax=ax) # use lat,lon here, that's what's in the raw data\n",
    "            plt.title('ESA landcover raw')\n",
    "            # plot resampled data\n",
    "            ax = fig.add_subplot(122) # 122 = 1 row of plots, 2 cols of plots, 2nd plot\n",
    "            lc_r.sel(y=slice(60,30),x=slice(-90,-60)).plot(ax=ax)  # use y,x here, that's what is written to our resampled variable\n",
    "            plt.title('ESA landcover resampled')\n",
    "            plt.tight_layout()\n",
    "            \n",
    "            print('...writing tif...')\n",
    "            yyyy=re.search('P1Y-....',f).group()[-4:]\n",
    "            outfile=outdir+'land_cover_lccs_stdgrid_'+yyyy+'.tif'\n",
    "            lc_r.rio.to_raster(outfile)\n",
    "            \n",
    "            plt.show()\n",
    "    except:\n",
    "        print('problem with file')"
   ]
  },
  {
   "cell_type": "code",
   "execution_count": null,
   "id": "332ae60b-7061-4411-aa03-1491375a13cb",
   "metadata": {},
   "outputs": [],
   "source": []
  }
 ],
 "metadata": {
  "kernelspec": {
   "display_name": "resample",
   "language": "python",
   "name": "resample"
  },
  "language_info": {
   "codemirror_mode": {
    "name": "ipython",
    "version": 3
   },
   "file_extension": ".py",
   "mimetype": "text/x-python",
   "name": "python",
   "nbconvert_exporter": "python",
   "pygments_lexer": "ipython3",
   "version": "3.12.2"
  }
 },
 "nbformat": 4,
 "nbformat_minor": 5
}
